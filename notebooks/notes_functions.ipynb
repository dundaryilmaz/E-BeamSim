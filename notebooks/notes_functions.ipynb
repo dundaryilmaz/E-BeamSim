{
 "cells": [
  {
   "cell_type": "code",
   "execution_count": 1,
   "metadata": {
    "collapsed": true
   },
   "outputs": [],
   "source": [
    "import numpy as np\n",
    "import matplotlib\n",
    "import matplotlib.pyplot as plt"
   ]
  },
  {
   "cell_type": "code",
   "execution_count": 12,
   "metadata": {
    "collapsed": true
   },
   "outputs": [],
   "source": [
    "def beta_ev(electron_energy):\n",
    "    \"\"\"electron_energy : electron energy in units of eV\"\"\"\n",
    "    return np.sqrt(1.0-1.0/(1+electron_energy/0.510998e6)**2)"
   ]
  },
  {
   "cell_type": "code",
   "execution_count": 13,
   "metadata": {},
   "outputs": [
    {
     "data": {
      "image/png": "[encoded data removed]",
      "text/plain": [
       "<matplotlib.figure.Figure at 0x2b8740cda668>"
      ]
     },
     "metadata": {},
     "output_type": "display_data"
    }
   ],
   "source": [
    "x = np.linspace(0,1e6,num=200)\n",
    "y = beta_e(x)\n",
    "fig, ax = plt.subplots()\n",
    "ax.plot(x,y)\n",
    "ax.set_xlabel('Energy (eV)')\n",
    "ax.set_ylabel('v/c')\n",
    "plt.show()"
   ]
  },
  {
   "cell_type": "code",
   "execution_count": 14,
   "metadata": {
    "collapsed": true
   },
   "outputs": [],
   "source": [
    "def mckinley_ratio(beta,Z,theta):\n",
    "    \"\"\"\n",
    "    The ratio of differential cross section to Rutherford scattering cross section\n",
    "    Developed by Mckinley and Feschbach\n",
    "    Formula adopted from:\n",
    "    Phys Rev 74 12 (1948)\n",
    "    beta : Ratio of electron velocity to the speed of light\n",
    "    Z : Atomic number of the nucleus\n",
    "    theta : Scattering angle of the electron\n",
    "    \"\"\"\n",
    "    alpha = Z/137 \n",
    "    sint_2 = np.sin(theta/2)\n",
    "    return( 1- beta*beta*sint_2*sint_2 +np.pi*alpha*beta*sint_2*(1-sint_2))"
   ]
  },
  {
   "cell_type": "code",
   "execution_count": 15,
   "metadata": {
    "collapsed": true
   },
   "outputs": [],
   "source": [
    "def rutherford_xsection(beta,Z,theta):\n",
    "    \"\"\"\n",
    "    Rutherford Cross Section of Electron Scattering\n",
    "    beta: Ratio of electron velocity to the speed of light\n",
    "    Z : Atomic number of the nucleus\n",
    "    theta : Scattering angle of the electron\n",
    "    \"\"\"\n",
    "    sigma = ((Z*0.197e-6)/(2*137*0.510998e6))**2*(1-beta**2)/(beta**4*np.sin(theta/2)**4)\n",
    "    return sigma #**2*(1-beta**2)/beta**4/np.sin(theta/2)**4\n",
    "\n"
   ]
  },
  {
   "cell_type": "code",
   "execution_count": 16,
   "metadata": {
    "collapsed": true
   },
   "outputs": [],
   "source": [
    "def diff_xsection(beta,Z,theta):\n",
    "    \"\"\"\n",
    "    This function calculates the differential cross section for a given scattering angle \n",
    "    The formula adopted from \n",
    "    Nanoscale 2013, 5, 6677 Skowron et al\n",
    "    beta : Ratio of electron velocity to speed of light\n",
    "    Z : Atomic number of the nucleus\n",
    "    theta :  Scattering angle of the electron\n",
    "    \"\"\"\n",
    "    return rutherford_xsection(beta,Z,theta)*mckinley_ratio(beta,Z,theta)\n",
    "\n"
   ]
  },
  {
   "cell_type": "code",
   "execution_count": 17,
   "metadata": {
    "collapsed": true
   },
   "outputs": [],
   "source": [
    "def total_xsection(electron_energy,Z, theta_min):\n",
    "    \"\"\"Calculates the integral from theta_min to pi\n",
    "       using trapezoid rule np.trapezoid\n",
    "       electron_energy : energy of the incident electron in units of eV\n",
    "       Z : Atomic number of the nucleus\n",
    "       theta_min : minimum scattering angle of the incident electron\n",
    "       based on the minimum transferred energy.\n",
    "       Calls diff_xsection to calculate integral at points theta_min to Pi\n",
    "    \"\"\"\n",
    "    theta = np.linspace(theta_min,np.pi,num=100)\n",
    "    beta = beta_ev(electron_energy)\n",
    "    tx = np.trapz(diff_xsection(beta,Z,theta)*np.sin(theta),theta)\n",
    "    return tx\n"
   ]
  },
  {
   "cell_type": "code",
   "execution_count": 18,
   "metadata": {
    "collapsed": true
   },
   "outputs": [],
   "source": [
    "def transferred_energy(electron_energy,M,theta):\n",
    "    \"\"\"\n",
    "    Transferred energy to Nucleus of mass M from\n",
    "    the scattered electron scattered with an angle theta\n",
    "    electron_energy : Energy of the incident electron in units of eV\n",
    "    M : Mass of the nucleus , atomic units  i.e  mass of carbon 12\n",
    "    theta : scatte\n",
    "    \"\"\"\n",
    "    e_rest = 0.510998e6 \n",
    "    m_ratio = M*1822\n",
    "    temp = 2*electron_energy*(electron_energy+2*e_rest)/ \\\n",
    "    (e_rest*(2+m_ratio+1/m_ratio)+2*electron_energy)\n",
    "    return temp*np.sin(theta/2)**2\n"
   ]
  },
  {
   "cell_type": "code",
   "execution_count": 19,
   "metadata": {
    "collapsed": true
   },
   "outputs": [],
   "source": [
    "def max_transferred_energy(electron_energy,M):\n",
    "    \"\"\"\n",
    "    Maximum transferred energy to Nucleus of mass M from the electron\n",
    "    when the scattering angle is equal to Pi\n",
    "    electron_energy : Energy of the incident electron in units of eV\n",
    "    M : Mass of the nucleus atomic units\n",
    "    \"\"\"\n",
    "    return transferred_energy(electron_energy,M,np.pi)\n"
   ]
  },
  {
   "cell_type": "code",
   "execution_count": 20,
   "metadata": {
    "collapsed": true
   },
   "outputs": [],
   "source": [
    "def theta_min(electron_energy, M, E_thr):\n",
    "    \"\"\"\n",
    "    Minimum scattering angle for electron scattering\n",
    "    electron_energy : energy of the incident electron in eV\n",
    "    M : Mass of the nucleus in atom units\n",
    "    E_thr : minimal transferred energy for nucleus usually %70-%90 of the \n",
    "    calculated threshold energy \n",
    "    \"\"\"\n",
    "    \n",
    "    temp = E_thr/max_transferred_energy(electron_energy,M)\n",
    "    \n",
    "    try:\n",
    "        return 2*np.arcsin(np.sqrt(temp))\n",
    "    except:\n",
    "        print('Minimum Transferred energy is greater then max transferred energy')\n",
    "        return None\n",
    "    "
   ]
  },
  {
   "cell_type": "code",
   "execution_count": 21,
   "metadata": {},
   "outputs": [
    {
     "name": "stdout",
     "output_type": "stream",
     "text": [
      "Minimum scattering angle 130.3656 in degrees\n",
      "1.1672657562387246e-21\n",
      "2.2753081413334244\n"
     ]
    }
   ],
   "source": [
    "# Calculated Threshold Energy for C : 16.5 eV\n",
    "# Minimal transferred energy is %70-%90 of this value\n",
    "electron_energy = 80e3 # 80 keV\n",
    "M = 12  # \n",
    "E_thr = 13 # eV\n",
    "Z = 26\n",
    "\n",
    "angle_min = theta_min(electron_energy, M, E_thr)\n",
    "\n",
    "print('Minimum scattering angle %8.4f in degrees' % (angle_min*180/np.pi))\n",
    "\n",
    "# Total Cross section\n",
    "sigma = total_xsection(electron_energy,angle_min,Z)\n",
    "print(sigma)\n",
    "print(angle_min)"
   ]
  },
  {
   "cell_type": "code",
   "execution_count": 22,
   "metadata": {
    "collapsed": true
   },
   "outputs": [],
   "source": [
    "e_energies = np.linspace(70e3,150e3,num=100)\n",
    "\n",
    "angles = theta_min(e_energies,M,E_thr)\n",
    "sigmas = []\n",
    "for e, a in zip(e_energies,angles):\n",
    "    sigma = total_xsection(e,a,Z)\n",
    "    sigmas.append(sigma)\n",
    "sigmas = np.asarray(sigmas)\n"
   ]
  },
  {
   "cell_type": "code",
   "execution_count": 23,
   "metadata": {},
   "outputs": [
    {
     "data": {
      "image/png": "[encoded data removed]",
      "text/plain": [
       "<matplotlib.figure.Figure at 0x2b8740c5e0b8>"
      ]
     },
     "metadata": {},
     "output_type": "display_data"
    }
   ],
   "source": [
    "fig, ax = plt.subplots()\n",
    "ax.plot(e_energies/1000,sigmas*1e28)\n",
    "ax.set_xlabel('Energy keV')\n",
    "ax.set_ylabel(r'$\\sigma$')\n",
    "plt.show()"
   ]
  },
  {
   "cell_type": "code",
   "execution_count": null,
   "metadata": {
    "collapsed": true
   },
   "outputs": [],
   "source": []
  },
  {
   "cell_type": "code",
   "execution_count": null,
   "metadata": {
    "collapsed": true
   },
   "outputs": [],
   "source": []
  },
  {
   "cell_type": "code",
   "execution_count": null,
   "metadata": {
    "collapsed": true
   },
   "outputs": [],
   "source": []
  },
  {
   "cell_type": "code",
   "execution_count": null,
   "metadata": {
    "collapsed": true
   },
   "outputs": [],
   "source": []
  },
  {
   "cell_type": "code",
   "execution_count": 25,
   "metadata": {},
   "outputs": [
    {
     "ename": "TypeError",
     "evalue": "total_xsection() missing 1 required positional argument: 'theta_min'",
     "output_type": "error",
     "traceback": [
      "\u001b[0;31m---------------------------------------------------------------------------\u001b[0m",
      "\u001b[0;31mTypeError\u001b[0m                                 Traceback (most recent call last)",
      "\u001b[0;32m<ipython-input-25-fb29c3315c4d>\u001b[0m in \u001b[0;36m<module>\u001b[0;34m()\u001b[0m\n\u001b[1;32m      5\u001b[0m \u001b[0mrx\u001b[0m \u001b[0;34m=\u001b[0m \u001b[0mrutherford_xsection\u001b[0m\u001b[0;34m(\u001b[0m\u001b[0mbeta_ev\u001b[0m\u001b[0;34m(\u001b[0m\u001b[0;36m2e3\u001b[0m\u001b[0;34m)\u001b[0m\u001b[0;34m,\u001b[0m\u001b[0;36m80\u001b[0m\u001b[0;34m,\u001b[0m\u001b[0mangles\u001b[0m\u001b[0;34m)\u001b[0m\u001b[0;34m\u001b[0m\u001b[0m\n\u001b[1;32m      6\u001b[0m \u001b[0mtemp\u001b[0m \u001b[0;34m=\u001b[0m  \u001b[0mrutherford_xsection\u001b[0m\u001b[0;34m(\u001b[0m\u001b[0mbeta_ev\u001b[0m\u001b[0;34m(\u001b[0m\u001b[0;36m2e3\u001b[0m\u001b[0;34m)\u001b[0m\u001b[0;34m,\u001b[0m\u001b[0;36m80\u001b[0m\u001b[0;34m,\u001b[0m\u001b[0mnp\u001b[0m\u001b[0;34m.\u001b[0m\u001b[0mpi\u001b[0m\u001b[0;34m/\u001b[0m\u001b[0;36m2\u001b[0m\u001b[0;34m)\u001b[0m\u001b[0;34m\u001b[0m\u001b[0m\n\u001b[0;32m----> 7\u001b[0;31m \u001b[0mtx\u001b[0m \u001b[0;34m=\u001b[0m \u001b[0mtotal_xsection\u001b[0m\u001b[0;34m(\u001b[0m\u001b[0;36m80\u001b[0m\u001b[0;34m,\u001b[0m\u001b[0;36m12\u001b[0m\u001b[0;34m)\u001b[0m\u001b[0;34m\u001b[0m\u001b[0m\n\u001b[0m\u001b[1;32m      8\u001b[0m \u001b[0mTmax\u001b[0m \u001b[0;34m=\u001b[0m \u001b[0mtransferred_energy\u001b[0m\u001b[0;34m(\u001b[0m\u001b[0;36m80\u001b[0m\u001b[0;34m,\u001b[0m\u001b[0;36m16\u001b[0m\u001b[0;34m,\u001b[0m\u001b[0mnp\u001b[0m\u001b[0;34m.\u001b[0m\u001b[0mpi\u001b[0m\u001b[0;34m)\u001b[0m\u001b[0;34m\u001b[0m\u001b[0m\n\u001b[1;32m      9\u001b[0m \u001b[0mprint\u001b[0m\u001b[0;34m(\u001b[0m\u001b[0mtx\u001b[0m\u001b[0;34m)\u001b[0m\u001b[0;34m\u001b[0m\u001b[0m\n",
      "\u001b[0;31mTypeError\u001b[0m: total_xsection() missing 1 required positional argument: 'theta_min'"
     ]
    }
   ],
   "source": [
    "r = mckinley_ratio(beta_ev(2e3),100,angles)\n",
    "dtheta = diff_xsection(beta_ev(2e3),100,angles)\n",
    "\n",
    "alpha = (1.6e-19**2)/(6.582e-16*3e8)\n",
    "rx = rutherford_xsection(beta_ev(2e3),80,angles)\n",
    "temp =  rutherford_xsection(beta_ev(2e3),80,np.pi/2)\n",
    "tx = total_xsection(80,12)\n",
    "Tmax = transferred_energy(80,16,np.pi)\n",
    "print(tx)\n",
    "print(temp)\n",
    "print(Tmax)\n",
    "print(np.sin(np.pi/2))\n",
    "Tmin = 10e-3 #keV\n",
    "theta_min = 2*np.arcsin(np.sqrt(Tmin/Tmax))\n",
    "print(theta_min*180/np.pi)\n"
   ]
  },
  {
   "cell_type": "code",
   "execution_count": 26,
   "metadata": {},
   "outputs": [
    {
     "data": {
      "image/png": "[encoded data removed]",
      "text/plain": [
       "<matplotlib.figure.Figure at 0x2b8740e3a828>"
      ]
     },
     "metadata": {},
     "output_type": "display_data"
    }
   ],
   "source": [
    "fig, ax = plt.subplots()\n",
    "ax.plot(angles*180/np.pi,r)\n",
    "ax.set_ylabel('Ratio')\n",
    "ax.set_xlabel(r'$\\theta$')\n",
    "ax.set_xlim([0,180])\n",
    "plt.show()"
   ]
  },
  {
   "cell_type": "code",
   "execution_count": 27,
   "metadata": {},
   "outputs": [
    {
     "data": {
      "image/png": "[encoded data removed]",
      "text/plain": [
       "<matplotlib.figure.Figure at 0x2b8740e3a4a8>"
      ]
     },
     "metadata": {},
     "output_type": "display_data"
    }
   ],
   "source": [
    "fig, ax = plt.subplots()\n",
    "ax.plot(angles*180/np.pi,rx)\n",
    "ax.set_ylabel(r'$\\sigma_R$')\n",
    "ax.set_xlabel(r'$\\theta$')\n",
    "ax.set_xlim([0,180])\n",
    "plt.show()"
   ]
  },
  {
   "cell_type": "code",
   "execution_count": 28,
   "metadata": {},
   "outputs": [
    {
     "data": {
      "image/png": "[encoded data removed]",
      "text/plain": [
       "<matplotlib.figure.Figure at 0x2b8740f681d0>"
      ]
     },
     "metadata": {},
     "output_type": "display_data"
    }
   ],
   "source": [
    "fig, ax = plt.subplots()\n",
    "ax.plot(angles*180/np.pi,dtheta)\n",
    "ax.set_ylabel(r'$\\sigma_R$')\n",
    "ax.set_xlabel(r'$\\theta$')\n",
    "ax.set_xlim([0,180])\n",
    "plt.show()"
   ]
  },
  {
   "cell_type": "code",
   "execution_count": 64,
   "metadata": {
    "collapsed": true
   },
   "outputs": [],
   "source": [
    "def T_m(electron_energy,atom_mass):\n",
    "    mec2 = 0.511e6\n",
    "    Mc2 = atom_mass*1822.89*mec2\n",
    "    return 2*electron_energy*(electron_energy+mec2)/Mc2\n",
    "def coupling(displacement_energy,Z, maximum_transferred_energy,beta):\n",
    "    g =  maximum_transferred_energy / displacement_energy\n",
    "    alpha = 1.0/137.0\n",
    "    temp = g-1-beta**2*np.log(g)\n",
    "    temp2 = 2*np.sqrt(g)-2-np.log(g)\n",
    "    temp3 = temp+temp2*np.pi*alpha*beta\n",
    "    temp4 = (1-beta**2)/beta**4*temp3\n",
    "    temp5 = np.pi*(Z*0.197e-6*alpha/0.510998e6)**2\n",
    "    t = np.where(g>1,temp5*temp4,0)\n",
    "    return t\n",
    "#    return 4*np.pi*Z**2*temp4*(0.197e-6*137)**2/(0.511e6)**2"
   ]
  },
  {
   "cell_type": "code",
   "execution_count": 65,
   "metadata": {
    "collapsed": true
   },
   "outputs": [],
   "source": [
    "atom_mass = 197 # gold atom\n",
    "Z = 79\n",
    "Ed = 40 #eV\n",
    "pozitron_energies = np.linspace(1e6,10e6,num=200)\n",
    "betas = beta_ev(electron_energy=pozitron_energies)\n",
    "T_ms = T_m(pozitron_energies,atom_mass)\n",
    "couplings =coupling(Ed,Z,T_ms,betas)"
   ]
  },
  {
   "cell_type": "code",
   "execution_count": 66,
   "metadata": {},
   "outputs": [
    {
     "name": "stdout",
     "output_type": "stream",
     "text": [
      "1.0 0.0\n",
      "1.0452261306532664 0.0\n",
      "1.0904522613065326 0.0\n",
      "1.135678391959799 0.0\n",
      "1.1809045226130652 0.0\n",
      "1.2261306532663316 0.0\n",
      "1.271356783919598 0.0\n",
      "1.3165829145728642 0.0\n",
      "1.3618090452261307 0.0\n",
      "1.4070351758793969 0.0\n",
      "1.4522613065326633 0.0\n",
      "1.4974874371859297 0.0\n",
      "1.5427135678391959 0.0\n",
      "1.5879396984924623 0.0\n",
      "1.6331658291457287 0.0\n",
      "1.678391959798995 0.0064735071208798884\n",
      "1.7236180904522613 0.33644620604853753\n",
      "1.7688442211055275 0.8097320083785609\n",
      "1.814070351758794 1.4050734309262296\n",
      "1.8592964824120604 2.104096165309665\n",
      "1.9045226130653266 2.8908936132319294\n",
      "1.949748743718593 3.751676680723877\n",
      "1.9949748743718592 4.674477640285164\n",
      "2.0402010050251254 5.648898955185319\n",
      "2.0854271356783918 6.6658996259348795\n",
      "2.130653266331658 7.717612955683936\n",
      "2.1758793969849246 8.797190708773195\n",
      "2.221105527638191 9.898669508817255\n",
      "2.2663316582914574 11.016856031514104\n",
      "2.3115577889447234 12.147228125676625\n",
      "2.35678391959799 13.285849469555979\n",
      "2.4020100502512562 14.429295758718048\n",
      "2.4472361809045227 15.574590742671832\n",
      "2.492462311557789 16.719150692987853\n",
      "2.537688442211055 17.86073610601122\n",
      "2.5829145728643215 18.997409626750702\n",
      "2.628140703517588 20.12749933369817\n",
      "2.6733668341708543 21.2495666525839\n",
      "2.7185929648241207 22.36237827476208\n",
      "2.7638190954773867 23.464881546545847\n",
      "2.809045226130653 24.556182872312615\n",
      "2.8542713567839195 25.635528738901332\n",
      "2.899497487437186 26.702289023694554\n",
      "2.9447236180904524 27.755942295407394\n",
      "2.9899497487437183 28.796062856330455\n",
      "3.0351758793969847 29.822309308670178\n",
      "3.080402010050251 30.834414456635557\n",
      "3.1256281407035176 31.832176380772633\n",
      "3.170854271356784 32.81545054238117\n",
      "3.21608040201005 33.78414279422724\n",
      "3.2613065326633164 34.738203189568495\n",
      "3.306532663316583 35.677620495182445\n",
      "3.351758793969849 36.60241732591626\n",
      "3.3969849246231156 37.51264582847564\n",
      "3.4422110552763816 38.4083838511014\n",
      "3.487437185929648 39.28973154345786\n",
      "3.5326633165829144 40.15680833780163\n",
      "3.577889447236181 41.009750268338415\n",
      "3.6231155778894473 41.84870759079958\n",
      "3.6683417085427132 42.67384266872131\n",
      "3.7135678391959797 43.48532809684058\n",
      "3.758793969849246 44.283345035414115\n",
      "3.8040201005025125 45.06808173231847\n",
      "3.849246231155779 45.839732212383794\n",
      "3.894472361809045 46.598495115764855\n",
      "3.9396984924623113 47.34457266920707\n",
      "3.9849246231155777 48.07816977582166\n",
      "4.030150753768844 48.79949321063963\n",
      "4.07537688442211 49.508750910565304\n",
      "4.1206030150753765 50.20615134862879\n",
      "4.165829145728643 50.89190298351239\n",
      "4.21105527638191 51.56621377633103\n",
      "4.256281407035176 52.22929076747667\n",
      "4.301507537688441 52.88133970713188\n",
      "4.346733668341709 53.52256473372494\n",
      "4.391959798994975 54.153168095222824\n",
      "4.437185929648241 54.77334990866253\n",
      "4.482412060301507 55.383307953857155\n",
      "4.527638190954773 55.98323749758735\n",
      "4.572864321608041 56.57333114499224\n",
      "4.618090452261306 57.15377871524989\n",
      "4.663316582914573 57.72476713886809\n",
      "4.708542713567839 58.28648037424401\n",
      "4.7537688442211055 58.839099341378706\n",
      "4.798994974874372 59.38280187081857\n",
      "4.844221105527637 59.91776266614248\n",
      "4.889447236180905 60.44415327844217\n",
      "4.934673366834171 60.962142091443354\n",
      "4.979899497487437 61.471894316001475\n",
      "5.025125628140703 61.97357199289796\n",
      "5.0703517587939695 62.467334002919394\n",
      "5.115577889447237 62.953336083339316\n",
      "5.160804020100502 63.43173084998949\n",
      "5.206030150753768 63.90266782421843\n",
      "5.251256281407035 64.36629346407388\n",
      "5.296482412060302 64.82275119916066\n",
      "5.341708542713568 65.27218146860945\n",
      "5.3869346733668335 65.71472176172975\n",
      "5.4321608040201 66.15050666094092\n",
      "5.477386934673367 66.57966788654785\n",
      "5.522613065326633 67.00233434311895\n",
      "5.567839195979899 67.41863216708094\n",
      "5.613065326633166 67.828684775315\n",
      "5.658291457286432 68.23261291453124\n",
      "5.703517587939698 68.63053471115998\n",
      "5.748743718592964 69.02256572161816\n",
      "5.793969849246231 69.4088189827493\n",
      "5.839195979899498 69.78940506234447\n",
      "5.884422110552763 70.16443210953669\n",
      "5.92964824120603 70.53400590503087\n",
      "5.974874371859296 70.89822991102302\n",
      "6.020100502512563 71.25720532070855\n",
      "6.065326633165829 71.61103110738988\n",
      "6.110552763819094 71.9598040729781\n",
      "6.155778894472362 72.30361889596023\n",
      "6.201005025125628 72.64256817871266\n",
      "6.2462311557788945 72.9767424941311\n",
      "6.29145728643216 73.30623043155225\n",
      "6.3366834170854265 73.63111864192993\n",
      "6.381909547738694 73.95149188224505\n",
      "6.427135678391959 74.26743305911828\n",
      "6.472361809045226 74.57902327164572\n",
      "6.517587939698492 74.88634185337541\n",
      "6.562814070351759 75.18946641350772\n",
      "6.608040201005025 75.48847287724165\n",
      "6.6532663316582905 75.78343552530181\n",
      "6.698492462311558 76.07442703261741\n",
      "6.743718592964824 76.36151850620735\n",
      "6.78894472361809 76.64477952220243\n",
      "6.834170854271356 76.92427816207679\n",
      "6.879396984924623 77.20008104804644\n",
      "6.92462311557789 77.47225337769676\n",
      "6.969849246231155 77.7408589577608\n",
      "7.015075376884421 78.00596023717725\n",
      "7.060301507537688 78.26761833933193\n",
      "7.105527638190955 78.52589309352962\n",
      "7.150753768844221 78.78084306576551\n",
      "7.195979899497487 79.03252558871911\n",
      "7.241206030150753 79.28099679102208\n",
      "7.28643216080402 79.52631162584485\n",
      "7.331658291457286 79.76852389875903\n",
      "7.376884422110552 80.0076862949322\n",
      "7.422110552763819 80.24385040563484\n",
      "7.467336683417085 80.47706675413104\n",
      "7.5125628140703515 80.70738482086824\n",
      "7.557788944723617 80.93485306810203\n",
      "7.603015075376884 81.15951896385675\n",
      "7.648241206030151 81.38142900532661\n",
      "7.693467336683416 81.60062874164998\n",
      "7.738693467336683 81.81716279615273\n",
      "7.783919597989949 82.03107488800774\n",
      "7.8291457286432165 82.24240785333996\n",
      "7.874371859296482 82.45120366584851\n",
      "7.9195979899497475 82.65750345683348\n",
      "7.964824120603015 82.86134753478815\n",
      "8.010050251256281 83.06277540445602\n",
      "8.055276381909547 83.26182578542624\n",
      "8.100502512562814 83.45853663021462\n",
      "8.14572864321608 83.65294514198155\n",
      "8.190954773869347 83.84508779169184\n",
      "8.236180904522612 84.0350003349302\n",
      "8.281407035175878 84.22271782821527\n",
      "8.326633165829145 84.40827464499542\n",
      "8.371859296482413 84.5917044911376\n",
      "8.417085427135678 84.77304042011495\n",
      "8.462311557788944 84.95231484773981\n",
      "8.507537688442211 85.12955956659052\n",
      "8.552763819095478 85.30480576004356\n",
      "8.597989949748744 85.47808401592296\n",
      "8.64321608040201 85.64942433988699\n",
      "8.688442211055275 85.8188561684034\n",
      "8.733668341708542 85.98640838142624\n",
      "8.77889447236181 86.15210931480344\n",
      "8.824120603015075 86.31598677227626\n",
      "8.869346733668342 86.47806803727123\n",
      "8.914572864321608 86.6383798843853\n",
      "8.959798994974873 86.79694859049998\n",
      "9.00502512562814 86.95379994576211\n",
      "9.050251256281406 87.1089592641583\n",
      "9.095477386934673 87.26245139392685\n",
      "9.140703517587939 87.41430072767494\n",
      "9.185929648241205 87.56453121221617\n",
      "9.231155778894474 87.71316635822018\n",
      "9.27638190954774 87.86022924963393\n",
      "9.321608040201005 88.00574255277014\n",
      "9.36683417085427 88.14972852534169\n",
      "9.412060301507536 88.29220902511753\n",
      "9.457286432160805 88.43320551843225\n",
      "9.50251256281407 88.57273908854437\n",
      "9.547738693467336 88.71083044371137\n",
      "9.592964824120603 88.84749992509201\n",
      "9.638190954773869 88.9827675144656\n",
      "9.683417085427136 89.11665284180981\n",
      "9.728643216080402 89.24917519257939\n",
      "9.773869346733667 89.38035351498576\n",
      "9.819095477386934 89.5102064269204\n",
      "9.8643216080402 89.63875222283605\n",
      "9.909547738693467 89.7660088804164\n",
      "9.954773869346734 89.89199406712702\n",
      "10.0 90.01672514653474\n"
     ]
    }
   ],
   "source": [
    "for e,c in zip(pozitron_energies/1e6,couplings):\n",
    "    print(e,c/1e-28)"
   ]
  },
  {
   "cell_type": "code",
   "execution_count": 67,
   "metadata": {},
   "outputs": [
    {
     "data": {
      "image/png": "[encoded data removed]",
      "text/plain": [
       "<matplotlib.figure.Figure at 0x2b87410749b0>"
      ]
     },
     "metadata": {},
     "output_type": "display_data"
    }
   ],
   "source": [
    "fig, ax = plt.subplots()\n",
    "ax.plot(pozitron_energies/1e6,couplings/1e-28)\n",
    "ax.set_ylabel(r'$\\sigma_R$')\n",
    "ax.set_xlabel(r'$MeV$')\n",
    "plt.show()"
   ]
  },
  {
   "cell_type": "code",
   "execution_count": null,
   "metadata": {
    "collapsed": true
   },
   "outputs": [],
   "source": []
  },
  {
   "cell_type": "code",
   "execution_count": null,
   "metadata": {
    "collapsed": true
   },
   "outputs": [],
   "source": []
  }
 ],
 "metadata": {
  "kernelspec": {
   "display_name": "Python 3",
   "language": "python",
   "name": "python3"
  },
  "language_info": {
   "codemirror_mode": {
    "name": "ipython",
    "version": 3
   },
   "file_extension": ".py",
   "mimetype": "text/x-python",
   "name": "python",
   "nbconvert_exporter": "python",
   "pygments_lexer": "ipython3",
   "version": "3.6.3"
  }
 },
 "nbformat": 4,
 "nbformat_minor": 2
}
